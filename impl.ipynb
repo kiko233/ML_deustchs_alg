{
 "cells": [
  {
   "cell_type": "code",
   "execution_count": 1,
   "id": "a9de62d9-1661-4e3b-ab70-fb4523f73d3c",
   "metadata": {},
   "outputs": [],
   "source": [
    "import matplotlib.pyplot as plt\n",
    "from pennylane import numpy as np\n",
    "import pennylane as qml\n",
    "from pennylane.operation import Operation\n",
    "\n",
    "from tqdm.notebook import tqdm"
   ]
  },
  {
   "cell_type": "raw",
   "id": "81f32024-e5ee-4ce9-ae84-9f2673ea9640",
   "metadata": {},
   "source": [
    "import random\n",
    "# Set random seeds\n",
    "np.random.seed(2)\n",
    "random.seed(2)"
   ]
  },
  {
   "cell_type": "code",
   "execution_count": 2,
   "id": "0972260e-da87-4e4d-8bf8-2ee16869af54",
   "metadata": {},
   "outputs": [],
   "source": [
    "# hyper parameters\n",
    "epoch = 100\n",
    "\n",
    "# the number of n, exclude the additional ancilla |1> state\n",
    "_n_qubits = 3 # used as index, note: also used in Uf definition"
   ]
  },
  {
   "cell_type": "code",
   "execution_count": 3,
   "id": "c834ee54-c39d-493a-8570-091cdcabfdbd",
   "metadata": {},
   "outputs": [],
   "source": [
    "# Uf(x) definition\n",
    "from pennylane.operation import Operation\n",
    "# qml functions\n",
    "\n",
    "def hadamard_op(n_qubits):\n",
    "    # register 1\n",
    "    for i in range(n_qubits):\n",
    "        qml.Hadamard(wires=i)\n",
    "        \n",
    "        \n",
    "        \n",
    "# return observable\n",
    "def observable_op(n_qubits, observable):\n",
    "    _observable = observable(wires=0)\n",
    "    for i in range(1, n_qubits):\n",
    "        _observable = qml.operation.Tensor(_observable, observable(wires=i))\n",
    "    return _observable\n",
    "\n",
    "\n",
    "\n",
    "def cnot_op(n_qubits):\n",
    "    # register 1\n",
    "    for i in range(n_qubits):\n",
    "        qml.CNOT([i, n_qubits])\n",
    "        \n",
    "        \n",
    "\n",
    "def ancilla_qubit_op_(op_list, wire):\n",
    "    # register 2\n",
    "    for gate_op in op_list:\n",
    "        gate_op(wire)\n",
    "        \n",
    "        \n",
    "        \n",
    "# balanced\n",
    "class balancedGate(Operation):\n",
    "    grad_recipe = None\n",
    "    num_params = 1\n",
    "    num_wires = _n_qubits+1\n",
    "    # In the future, the abstract method par_domain will be removed\n",
    "    par_domain = \"R\" \n",
    "        \n",
    "    @staticmethod\n",
    "    def decomposition(num_qubits):\n",
    "        cnot_op(num_qubits)\n",
    "\n",
    "\n",
    "\n",
    "# constant\n",
    "class constantGate(Operation):\n",
    "    grad_recipe = None\n",
    "    num_params = 1\n",
    "    num_wires = 1\n",
    "    # In the future, the abstract method par_domain will be removed\n",
    "    par_domain = \"R\" \n",
    "    \n",
    "    @staticmethod\n",
    "    def decomposition(boolean, wire):\n",
    "        # f(x) = 1\n",
    "        if boolean:\n",
    "            qml.PauliX(wire)\n",
    "        else: # f(x) = 0\n",
    "            qml.Identity(wire)\n",
    "            \n"
   ]
  },
  {
   "cell_type": "code",
   "execution_count": 4,
   "id": "773d667f-a913-4baf-9115-6062277fb57f",
   "metadata": {},
   "outputs": [],
   "source": [
    "# return quantum circuit that solves the problem\n",
    "# containing trainable parameters for layer after Uf (user defined) \n",
    "\n",
    "# exclude the extra qubit\n",
    "# total qubit count is _n_qubit+1\n",
    "def circuit_init(n_qubits=1, _oracle=None, _oracle_args=None, measure=None, measure_args=None):\n",
    "    \n",
    "    dev = qml.device(\"default.qubit\", wires=n_qubits+1)\n",
    "    \n",
    "    @qml.qnode(dev, diff_method=\"parameter-shift\")\n",
    "    def circuit(_ancilla_qubit_op_list=[qml.PauliX],\n",
    "                state_processing=None, state_processing_vars=None, re_apply=True,\n",
    "                oracle=_oracle, oracle_args=_oracle_args, \n",
    "                var_gate=None, var_gate_args=None,\n",
    "                   _measure_args=measure_args):\n",
    "\n",
    "        # register 2\n",
    "        ancilla_qubit_op_(_ancilla_qubit_op_list, n_qubits)\n",
    "        # register 1\n",
    "        hadamard_op(n_qubits+1)\n",
    "\n",
    "        if state_processing is not None:\n",
    "            state_processing(state_processing_vars)\n",
    "        \n",
    "        oracle(*oracle_args)\n",
    "        \n",
    "        if state_processing is not None and re_apply:\n",
    "            state_processing(state_processing_vars)\n",
    "            \n",
    "        var_gate(*var_gate_args)\n",
    "        \n",
    "        return measure(*_measure_args)\n",
    "    \n",
    "    return circuit"
   ]
  },
  {
   "cell_type": "code",
   "execution_count": 5,
   "id": "d754fb8c-d5c7-49b8-8bad-236f6550ba41",
   "metadata": {},
   "outputs": [],
   "source": [
    "# custom (trainable) gate definition\n",
    "\n",
    "# based on text book, decomposit arbitrary quantum gate to ry rz \n",
    "class universal_gate(Operation):\n",
    "    grad_recipe = None\n",
    "    num_params = 1\n",
    "    num_wires = _n_qubits\n",
    "    # In the future, the abstract method par_domain will be removed\n",
    "    par_domain = \"R\" \n",
    "    \n",
    "    @staticmethod\n",
    "    def decomposition(num_qubits, params):\n",
    "        for i in range(num_qubits):\n",
    "            qml.RZ(params[i*3+2], i)\n",
    "            qml.RY(params[i*3+1], i)\n",
    "            qml.RZ(params[i*3], i)"
   ]
  },
  {
   "cell_type": "code",
   "execution_count": 6,
   "id": "bf89cd9c-198d-42ac-9add-ee790e1efd71",
   "metadata": {},
   "outputs": [],
   "source": [
    "# cost function\n",
    "\n",
    "def cost(trg, _circuit, _universal_gate, params, _state_processing=None, _state_processing_vars=None, measure_args=[range(_n_qubits)], wire=0):\n",
    "    return abs(trg - _circuit(state_processing=_state_processing, \n",
    "                              state_processing_vars=_state_processing_vars,\n",
    "                              var_gate=_universal_gate.decomposition, var_gate_args=[_n_qubits, params], \n",
    "                              _measure_args=measure_args)[wire])\n"
   ]
  },
  {
   "cell_type": "markdown",
   "id": "4f603d6e-fc5c-4110-94da-06e66a461957",
   "metadata": {},
   "source": [
    "Fixed Uf -- trainging parameters\n",
    "======================================="
   ]
  },
  {
   "cell_type": "code",
   "execution_count": 7,
   "id": "283a9678-b8e7-41c4-8fd9-13fadb63c9a1",
   "metadata": {},
   "outputs": [
    {
     "data": {
      "image/png": "[encoded data removed]",
      "text/plain": [
       "<Figure size 648x360 with 1 Axes>"
      ]
     },
     "metadata": {},
     "output_type": "display_data"
    },
    {
     "data": {
      "text/plain": [
       "tensor([0., 0., 0., 0., 0., 0., 0., 1.], requires_grad=True)"
      ]
     },
     "execution_count": 7,
     "metadata": {},
     "output_type": "execute_result"
    }
   ],
   "source": [
    "# circuit instance\n",
    "\n",
    "trg_balanced = 0\n",
    "trg_constant = 1\n",
    "\n",
    "circuit = circuit_init(n_qubits=_n_qubits, \n",
    "                        _oracle=balancedGate.decomposition,\n",
    "                        _oracle_args=[_n_qubits],\n",
    "                        # oracle=constantGate.decomposition,\n",
    "                        # oracle_args=[True, _n_qubits],\n",
    "                        measure=qml.probs, \n",
    "                        measure_args=[range(_n_qubits)]\n",
    "                        # measure=qml.expval, \n",
    "                        #  measure_args=[observable_op(_n_qubits, qml.Identity)]\n",
    "                        )\n",
    "\n",
    "fig, ax = qml.draw_mpl(circuit, decimals=2)(var_gate=hadamard_op, var_gate_args=[_n_qubits])\n",
    "plt.show()\n",
    "# fig, ax = qml.draw_mpl(circuit, decimals=2)(custom_gate.decomposition, [_n_qubits, init_params])\n",
    "# plt.show()\n",
    "\n",
    "circuit(var_gate=hadamard_op, var_gate_args=[_n_qubits])"
   ]
  },
  {
   "cell_type": "code",
   "execution_count": 8,
   "id": "64eae268-34d1-432f-a6ad-0262199a44cf",
   "metadata": {},
   "outputs": [
    {
     "name": "stdout",
     "output_type": "stream",
     "text": [
      "Cost after step    10:  0.0371688\n",
      "Cost after step    20:  0.0175632\n",
      "Cost after step    30:  0.0103704\n",
      "Cost after step    40:  0.0069334\n",
      "Cost after step    50:  0.0050121\n",
      "Cost after step    60:  0.0038217\n",
      "Cost after step    70:  0.0030286\n",
      "Cost after step    80:  0.0024712\n",
      "Cost after step    90:  0.0020628\n",
      "Cost after step   100:  0.0017536\n",
      "Optimized rotation angles: [ 0.         -0.86150089  0.          0.         -0.86150089  0.\n",
      "  0.         -0.86150089  0.        ]\n"
     ]
    },
    {
     "data": {
      "text/plain": [
       "tensor([0.00175359, 0.01278824, 0.01278824, 0.09325945, 0.01278824,\n",
       "        0.09325945, 0.09325945, 0.68010332], requires_grad=True)"
      ]
     },
     "execution_count": 8,
     "metadata": {},
     "output_type": "execute_result"
    }
   ],
   "source": [
    "# train the model\n",
    "\n",
    "# weight initialization for quantum circuit\n",
    "init_params = np.zeros(3*_n_qubits, requires_grad=True)\n",
    "\n",
    "# initialise the optimizer\n",
    "opt = qml.GradientDescentOptimizer(stepsize=0.4)\n",
    "\n",
    "# set the initial parameter values\n",
    "params = init_params\n",
    "\n",
    "# set target\n",
    "trg = trg_balanced\n",
    "\n",
    "for i in range(epoch):\n",
    "    # update the circuit parameters\n",
    "    params = opt.step(cost, trg, circuit, universal_gate, params)[3]\n",
    "\n",
    "    if (i + 1) % 10 == 0:\n",
    "        print(\"Cost after step {:5d}: {: .7f}\".format(i + 1, cost(trg, circuit, universal_gate, params)))\n",
    "\n",
    "print(\"Optimized rotation angles: {}\".format(params))\n",
    "circuit(var_gate=universal_gate.decomposition, var_gate_args=[_n_qubits, params])"
   ]
  },
  {
   "cell_type": "markdown",
   "id": "fcf4cbc8-4c3f-4035-b04b-1dee789b5192",
   "metadata": {},
   "source": [
    "\n",
    "Bruteforce -- training parameters\n",
    "======================================="
   ]
  },
  {
   "cell_type": "code",
   "execution_count": 12,
   "id": "2f8fe6e8-d0ff-451b-956a-6f46fb1bb0a5",
   "metadata": {},
   "outputs": [],
   "source": [
    "import random\n",
    "import itertools\n",
    "\n",
    "# state processing before oracle\n",
    "def state_processing_(wire_list):\n",
    "    for i in wire_list:\n",
    "        qml.PauliX(i)\n",
    "        \n",
    "        \n",
    "# 256 samples for n_qubits=3\n",
    "# return generator as a function (reusable)\n",
    "def wire_selection(n_wire, seed=None, data_augument_constant=False):\n",
    "    \n",
    "    def generator_obj(_seed=seed, _n_wire=n_wire):\n",
    "        if _seed is not None:\n",
    "            random.seed(_seed)\n",
    "        idx = range(_n_wire)\n",
    "\n",
    "        if data_augument_constant:\n",
    "            for i in range(200):\n",
    "                yield ()\n",
    "        for L in range(0, len(idx)+1):\n",
    "            for subset in itertools.combinations(idx, L):\n",
    "                yield subset\n",
    "\n",
    "    return lambda: generator_obj()\n"
   ]
  },
  {
   "cell_type": "code",
   "execution_count": 13,
   "id": "dda6807c-7aec-45f2-8972-f24fc2b71563",
   "metadata": {},
   "outputs": [],
   "source": [
    "# circuit instance\n",
    "\n",
    "trg_balanced = 0\n",
    "trg_constant = 1\n",
    "\n",
    "# set target\n",
    "trg = trg_balanced\n",
    "\n",
    "circuit_bruteforce = circuit_init(n_qubits=_n_qubits, \n",
    "                        _oracle=balancedGate.decomposition,\n",
    "                        _oracle_args=[_n_qubits],\n",
    "                        # _oracle=constantGate.decomposition,\n",
    "                        # _oracle_args=[False, _n_qubits],\n",
    "                        measure=qml.probs, \n",
    "                        measure_args=[range(_n_qubits)]\n",
    "                        )"
   ]
  },
  {
   "cell_type": "code",
   "execution_count": 14,
   "id": "00a547b2-10c4-4109-92c4-c98fed675192",
   "metadata": {},
   "outputs": [
    {
     "name": "stdout",
     "output_type": "stream",
     "text": [
      "Cost after step    10:  0.0000158\n",
      "Cost after step    20:  0.0000055\n",
      "Cost after step    30:  0.0000030\n",
      "Cost after step    40:  0.0000019\n",
      "Cost after step    50:  0.0000014\n",
      "Cost after step    60:  0.0000010\n",
      "Cost after step    70:  0.0000008\n",
      "Cost after step    80:  0.0000007\n",
      "Cost after step    90:  0.0000006\n",
      "Cost after step   100:  0.0000005\n",
      "Optimized rotation angles: [ 0.         -1.39379496  0.          0.         -1.39379496  0.\n",
      "  0.         -1.39379496  0.        ]\n"
     ]
    },
    {
     "data": {
      "text/plain": [
       "tensor([4.76735293e-07, 6.05497282e-05, 6.05497282e-05, 7.69036745e-03,\n",
       "        6.05497282e-05, 7.69036745e-03, 7.69036745e-03, 9.76746772e-01], requires_grad=True)"
      ]
     },
     "execution_count": 14,
     "metadata": {},
     "output_type": "execute_result"
    }
   ],
   "source": [
    "# train the model\n",
    "\n",
    "# weight initialization for quantum circuit\n",
    "init_params = np.zeros(3* _n_qubits, requires_grad=True)\n",
    "\n",
    "# initialise the optimizer\n",
    "opt = qml.GradientDescentOptimizer(stepsize=0.4)\n",
    "\n",
    "# set the initial parameter values\n",
    "params = init_params\n",
    "\n",
    "wire_selection_generator = wire_selection(_n_qubits, seed=1, data_augument_constant=True)\n",
    "\n",
    "for i in range(epoch):\n",
    "    for sample in wire_selection_generator():\n",
    "        # update the circuit parameters\n",
    "        params = opt.step(cost, trg, circuit_bruteforce, universal_gate, params, \n",
    "                          _state_processing=state_processing_, _state_processing_vars=sample)[3]\n",
    "        \n",
    "    if (i + 1) % 10 == 0:\n",
    "        print(\"Cost after step {:5d}: {: .7f}\".format(i + 1, cost(trg, circuit_bruteforce, universal_gate, params, \n",
    "                                                                  _state_processing=state_processing_, _state_processing_vars=sample)))\n",
    "\n",
    "print(\"Optimized rotation angles: {}\".format(params))\n",
    "circuit_bruteforce(var_gate=universal_gate.decomposition, var_gate_args=[_n_qubits, params])"
   ]
  },
  {
   "cell_type": "code",
   "execution_count": 15,
   "id": "b956e7ed-c3bd-4fd7-be6b-07e82e58bbd2",
   "metadata": {},
   "outputs": [
    {
     "name": "stdout",
     "output_type": "stream",
     "text": [
      "256\n"
     ]
    }
   ],
   "source": [
    "idx = range(8)\n",
    "def gene():\n",
    "    for L in range(0, len(idx)+1):\n",
    "        for subset in itertools.combinations(idx, L):\n",
    "            yield subset\n",
    "counter=0\n",
    "for i in gene():\n",
    "    counter+=1\n",
    "print(counter)"
   ]
  }
 ],
 "metadata": {
  "kernelspec": {
   "display_name": "Python 3 (ipykernel)",
   "language": "python",
   "name": "python3"
  },
  "language_info": {
   "codemirror_mode": {
    "name": "ipython",
    "version": 3
   },
   "file_extension": ".py",
   "mimetype": "text/x-python",
   "name": "python",
   "nbconvert_exporter": "python",
   "pygments_lexer": "ipython3",
   "version": "3.9.12"
  }
 },
 "nbformat": 4,
 "nbformat_minor": 5
}
